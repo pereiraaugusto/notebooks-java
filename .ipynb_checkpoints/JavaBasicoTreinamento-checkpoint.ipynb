{
 "cells": [
  {
   "cell_type": "markdown",
   "metadata": {},
   "source": [
    "# Java básico\n",
    "## Genoa Soluções\n",
    "Nesta parte do curso, cobriremos os seguintes tópicos:\n",
    "- Tipos de dados\n",
    "- Operações aritméticas e booleanas\n",
    "- Operadores de comparação\n",
    "- Atribuições\n",
    "- Funções"
   ]
  },
  {
   "cell_type": "markdown",
   "metadata": {},
   "source": [
    "### Tipos de dados\n",
    "\n",
    "As variáveis em Java podem ser divididas em **simples** e **compostos**.\n",
    "\n",
    "**Simples**: sempre começam com letra minúscula:"
   ]
  },
  {
   "cell_type": "code",
   "execution_count": null,
   "metadata": {},
   "outputs": [],
   "source": [
    "int a = 3; // variável inteira\n",
    "double b = 5.5; // variável real\n",
    "boolean teste; // // variável booleana (v/f)"
   ]
  },
  {
   "cell_type": "markdown",
   "metadata": {},
   "source": [
    "**Compostos**: sempre começam com letra maiúscula:"
   ]
  },
  {
   "cell_type": "code",
   "execution_count": null,
   "metadata": {},
   "outputs": [],
   "source": [
    "import java.util.LinkedList;\n",
    "String fruta = \"banana\"; // sequência de caracteres, sempre aspas duplas\n",
    "LinkedList<String> listaDeStrings = new LinkedList(); // lista de elementos do tipo String"
   ]
  },
  {
   "cell_type": "markdown",
   "metadata": {},
   "source": [
    "### Operações aritméticas\n",
    "- **+**: soma ou concatenação de strings\n",
    "- **-**: subtração\n",
    "- *****: multiplicação\n",
    "- **/**: divisão\n",
    "- **%**: resto de divisão inteira"
   ]
  },
  {
   "cell_type": "code",
   "execution_count": 10,
   "metadata": {},
   "outputs": [
    {
     "name": "stdout",
     "output_type": "stream",
     "text": [
      "6.0\n",
      "0\n",
      "amarelo\n",
      "2ama\n"
     ]
    },
    {
     "data": {
      "text/plain": [
       "null"
      ]
     },
     "execution_count": 10,
     "metadata": {},
     "output_type": "execute_result"
    }
   ],
   "source": [
    "double a = 4.0;\n",
    "int b = 2;\n",
    "int c = 4;\n",
    "String d = \"ama\";\n",
    "String e = \"relo\";\n",
    "\n",
    "System.out.println(a + b);\n",
    "System.out.println(b / c);\n",
    "System.out.println(d + e);\n",
    "System.out.println(b + d);"
   ]
  },
  {
   "cell_type": "code",
   "execution_count": null,
   "metadata": {},
   "outputs": [],
   "source": []
  }
 ],
 "metadata": {
  "kernelspec": {
   "display_name": "Java",
   "language": "java",
   "name": "java"
  },
  "language_info": {
   "codemirror_mode": "text/x-java",
   "file_extension": ".java",
   "mimetype": "",
   "name": "Java",
   "nbconverter_exporter": "",
   "version": "1.8.0_121"
  },
  "toc": {
   "base_numbering": 1,
   "nav_menu": {},
   "number_sections": false,
   "sideBar": false,
   "skip_h1_title": false,
   "title_cell": "Table of Contents",
   "title_sidebar": "Contents",
   "toc_cell": false,
   "toc_position": {},
   "toc_section_display": false,
   "toc_window_display": false
  }
 },
 "nbformat": 4,
 "nbformat_minor": 4
}
