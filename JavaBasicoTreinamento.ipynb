{
 "cells": [
  {
   "cell_type": "markdown",
   "metadata": {},
   "source": [
    "# Java básico\n",
    "\n",
    "Nesta parte do curso, cobriremos os seguintes tópicos:\n",
    "- Tipos de dados\n",
    "- Operações aritméticas e booleanas\n",
    "- Operadores de comparação\n",
    "- Atribuições\n",
    "- Funções"
   ]
  },
  {
   "cell_type": "markdown",
   "metadata": {},
   "source": [
    "### Tipos de dados\n",
    "\n",
    "As variáveis em Java podem ser divididas em **simples** e **compostos**.\n",
    "\n",
    "**Simples**: sempre começam com letra minúscula:"
   ]
  },
  {
   "cell_type": "code",
   "execution_count": null,
   "metadata": {},
   "outputs": [],
   "source": [
    "int a = 3; // variável inteira\n",
    "double b = 5.5; // variável real\n",
    "boolean teste; // // variável booleana (v/f)"
   ]
  },
  {
   "cell_type": "markdown",
   "metadata": {},
   "source": [
    "**Compostos**: sempre começam com letra maiúscula:"
   ]
  },
  {
   "cell_type": "code",
   "execution_count": null,
   "metadata": {},
   "outputs": [],
   "source": [
    "import java.util.LinkedList;\n",
    "String fruta = \"banana\"; // sequência de caracteres, sempre aspas duplas\n",
    "LinkedList<String> listaDeStrings = new LinkedList(); // lista de elementos do tipo String"
   ]
  },
  {
   "cell_type": "markdown",
   "metadata": {},
   "source": [
    "### Operações aritméticas\n",
    "- **+** soma ou concatenação de strings\n",
    "- **-** subtração\n",
    "- ***** multiplicação\n",
    "- **/** divisão\n",
    "- **%** resto de divisão inteira"
   ]
  },
  {
   "cell_type": "code",
   "execution_count": null,
   "metadata": {},
   "outputs": [],
   "source": [
    "double a = 4.0;\n",
    "int b = 2;\n",
    "int c = 4;\n",
    "String d = \"Any\";\n",
    "String e = \"Logic\";\n",
    "\n",
    "System.out.println(a + b);\n",
    "System.out.println(b / c);\n",
    "System.out.println(d + e);\n",
    "System.out.println(b + d);"
   ]
  },
  {
   "cell_type": "markdown",
   "metadata": {},
   "source": [
    "### Operações booleanas\n",
    "- **&&** e\n",
    "- **||** ou\n",
    "- **!** multiplicação"
   ]
  },
  {
   "cell_type": "code",
   "execution_count": null,
   "metadata": {},
   "outputs": [],
   "source": [
    "boolean a = true;\n",
    "boolean b = false;\n",
    "\n",
    "System.out.println(a && b);\n",
    "System.out.println(a || b);\n",
    "System.out.println(a && !b);"
   ]
  },
  {
   "cell_type": "markdown",
   "metadata": {},
   "source": [
    "### Operações de comparação\n",
    "- **<** menor\n",
    "- **<=** menor ou igual\n",
    "- **>** maior\n",
    "- **>=** maior ou igual\n",
    "- **==** igual$^*$\n",
    "- **!=** diferente\n",
    "\n",
    "\n",
    "$^*$ Strings não devem ser comparadas com este operador"
   ]
  },
  {
   "cell_type": "markdown",
   "metadata": {},
   "source": [
    "### Operador condicional\n",
    "O valor retornado depende da resposta da condição:\n",
    "\n",
    "*condição **?** valor se verdadeiro **:** valor se falso*\n",
    "\n",
    "**Dica**: No AnyLogic, este operador é aceito em locais que um *if* não é"
   ]
  },
  {
   "cell_type": "code",
   "execution_count": null,
   "metadata": {},
   "outputs": [],
   "source": [
    "int x = 5;\n",
    "boolean z = false;\n",
    "\n",
    "System.out.println(\"y = \" + (x < 10 ? 2 : 5));\n",
    "System.out.println(\"w = \" + (z ? 2 : 5));\n",
    "System.out.println(\"a = \" + (x != 5 ? 0 : 2));"
   ]
  },
  {
   "cell_type": "markdown",
   "metadata": {},
   "source": [
    "### Atribuições e operações simplificadas\n",
    "\n",
    "O Java possui alguns atalhos para simplificar a atualização do valor de uma variável. O código abaixo"
   ]
  },
  {
   "cell_type": "code",
   "execution_count": null,
   "metadata": {},
   "outputs": [],
   "source": [
    "int a = 6;\n",
    "int b = 3;\n",
    "\n",
    "a = a + b;\n",
    "a = a - b;\n",
    "a = a * b;\n",
    "a = a / b;"
   ]
  },
  {
   "cell_type": "markdown",
   "metadata": {},
   "source": [
    "pode ser reescrito de maneira reduzida: "
   ]
  },
  {
   "cell_type": "code",
   "execution_count": null,
   "metadata": {},
   "outputs": [],
   "source": [
    "int a = 6;\n",
    "int b = 3;\n",
    "\n",
    "a += b;\n",
    "a -= b;\n",
    "a *= b;\n",
    "a /= b;"
   ]
  },
  {
   "cell_type": "markdown",
   "metadata": {},
   "source": [
    "Há um caso especial para quando queremos incrementar ou decrementar uma variável de uma unidade, os operadores *++* e *--*"
   ]
  },
  {
   "cell_type": "code",
   "execution_count": null,
   "metadata": {},
   "outputs": [],
   "source": [
    "int x = 2;\n",
    "\n",
    "// Para incrementar uma unidade em x:\n",
    "x++;\n",
    "\n",
    "// Para incrementar uma unidade em x:\n",
    "x--;"
   ]
  },
  {
   "cell_type": "markdown",
   "metadata": {},
   "source": [
    "Qual valor será guardado na variável *b*?"
   ]
  },
  {
   "cell_type": "code",
   "execution_count": null,
   "metadata": {},
   "outputs": [],
   "source": [
    "int a = 3;\n",
    "int b = a++;\n",
    "\n",
    "System.out.println(b);"
   ]
  },
  {
   "cell_type": "markdown",
   "metadata": {},
   "source": [
    "### Chamando funções e acessando campos\n",
    "\n",
    "Para chamar uma função, devemos digitar seu nome, seguido por parêntesis. Caso a função aceite parâmetros, insira-os separados por vírgulas"
   ]
  },
  {
   "cell_type": "code",
   "execution_count": null,
   "metadata": {},
   "outputs": [],
   "source": [
    "String al = \"anylogic\";\n",
    "String a = al.substring(0, 3);\n",
    "\n",
    "/* A função substring retorna um pedaço da string\n",
    " * precisa de dois argumentos: a posição inicial e o \n",
    " * número de caracteres da string resultante\n",
    " */\n",
    "\n",
    "boolean teste = al.equals(\"ANYLOGIC\");\n",
    "\n",
    "/* A função equals compara duas strings\n",
    " * precisa de apenas um argumento, a string com\n",
    " * a qual queremos comparar a string original\n",
    " */\n",
    "\n",
    "System.out.println(teste);\n",
    "System.out.println(a);"
   ]
  },
  {
   "cell_type": "code",
   "execution_count": null,
   "metadata": {},
   "outputs": [],
   "source": [
    "import java.util.ArrayList;\n",
    "ArrayList<String> carros = new ArrayList(); \n",
    "\n",
    "// A função add adiciona elementos à lista\n",
    "carros.add(\"Fusca\"); //0\n",
    "carros.add(\"Gol\"); //1\n",
    "carros.add(\"Marea turbo\"); //2\n",
    "\n",
    "int tamanhoLista = carros.size(); // A função size retorna o número de elementos da lista\n",
    "System.out.println(\"Tamanho da lista: \" + tamanhoLista);\n",
    "\n",
    "// A função get(i) retorna o i-ésimo elemento da lista\n",
    "System.out.println(\"Primeiro carro da lista: \" + carros.get(0));\n",
    "System.out.println(\"Último carro da lista: \" + carros.get(tamanhoLista-1));"
   ]
  },
  {
   "cell_type": "markdown",
   "metadata": {},
   "source": [
    "### Operador de decisão: *if*\n",
    "\n",
    "Executa um trecho de código apenas se a condição especificada for verdadeira. Pode-se optar por executar outro trecho de código caso a condição seja falsa:\n"
   ]
  },
  {
   "cell_type": "code",
   "execution_count": null,
   "metadata": {},
   "outputs": [],
   "source": [
    "int a = 0;\n",
    "int b = 5;\n",
    "\n",
    "if(a < b)\n",
    "    System.out.println(\"'a' é menor que 'b'\");\n",
    "else if(a == b)\n",
    "    System.out.println(\"'a' é igual a 'b'\");\n",
    "else\n",
    "    System.out.println(\"'a' é maior que 'b'\");"
   ]
  },
  {
   "cell_type": "markdown",
   "metadata": {},
   "source": [
    "### Laços *for*\n",
    "\n",
    "Laço/*loop* muito usado usado para percorrer populações de agentes e listas. Existem duas formas de se executar um laço *for*, o indexado e o *enhanced for*: \n",
    "\n",
    "#### *For*  indexado: "
   ]
  },
  {
   "cell_type": "code",
   "execution_count": null,
   "metadata": {},
   "outputs": [],
   "source": [
    "import java.util.ArrayList;\n",
    "ArrayList<String> carros = new ArrayList(); \n",
    "\n",
    "carros.add(\"Fusca\");\n",
    "carros.add(\"Gol\");\n",
    "carros.add(\"Marea turbo\");\n",
    "\n",
    "for(int i = 0; i < carros.size(); i++)\n",
    "    System.out.println(\"Índice \" + carros.get(i) + \":\" + \" \" + i);"
   ]
  },
  {
   "cell_type": "markdown",
   "metadata": {},
   "source": [
    "#### *Enhanced for* : "
   ]
  },
  {
   "cell_type": "code",
   "execution_count": null,
   "metadata": {},
   "outputs": [],
   "source": [
    "import java.util.ArrayList;\n",
    "ArrayList<String> carros = new ArrayList(); \n",
    "\n",
    "carros.add(\"Fusca\");\n",
    "carros.add(\"Gol\");\n",
    "carros.add(\"Marea turbo\");\n",
    "\n",
    "for(String carro : carros)\n",
    "    System.out.println(\"Número de caracteres de \" + carro + \":\" + \" \" + carro.length());"
   ]
  },
  {
   "cell_type": "markdown",
   "metadata": {},
   "source": [
    "### Laço *while*\n",
    "\n",
    "Nota-se que o número de iterações de um laço de *for* é fixo, isto é, sempre percorre toda a população ou lista definida no cabeçalho. Já o laço *while* realiza um número variável de iterações, pois, a cada iteração, avalia alguma iteração e só continua se ela for verdadeira"
   ]
  },
  {
   "cell_type": "code",
   "execution_count": null,
   "metadata": {},
   "outputs": [],
   "source": [
    "import java.util.ArrayList;\n",
    "ArrayList<String> carros = new ArrayList(); \n",
    "\n",
    "carros.add(\"Fusca\");\n",
    "carros.add(\"Gol\");\n",
    "carros.add(\"Marea turbo\");\n",
    "\n",
    "int i = 0;\n",
    "while(carros.get(i).length() < 10) {\n",
    "    System.out.println(\"A string \" + carros.get(i) + \" tem menos que 10 caracteres\");\n",
    "    i++;\n",
    "}    "
   ]
  }
 ],
 "metadata": {
  "kernelspec": {
   "display_name": "Java",
   "language": "java",
   "name": "java"
  },
  "language_info": {
   "codemirror_mode": "text/x-java",
   "file_extension": ".java",
   "mimetype": "",
   "name": "Java",
   "nbconverter_exporter": "",
   "version": "1.8.0_121"
  },
  "toc": {
   "base_numbering": 1,
   "nav_menu": {},
   "number_sections": false,
   "sideBar": false,
   "skip_h1_title": false,
   "title_cell": "Table of Contents",
   "title_sidebar": "Contents",
   "toc_cell": false,
   "toc_position": {},
   "toc_section_display": false,
   "toc_window_display": false
  }
 },
 "nbformat": 4,
 "nbformat_minor": 4
}
