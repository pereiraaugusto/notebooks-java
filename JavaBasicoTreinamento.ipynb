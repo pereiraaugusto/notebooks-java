{
 "cells": [
  {
   "cell_type": "markdown",
   "metadata": {},
   "source": [
    "# Java básico\n",
    "## Genoa Soluções\n",
    "Nesta parte do curso, cobriremos os seguintes tópicos:\n",
    "- Tipos de dados\n",
    "- Operações aritméticas e booleanas\n",
    "- Operadores de comparação\n",
    "- Atribuições\n",
    "- Funções"
   ]
  },
  {
   "cell_type": "markdown",
   "metadata": {},
   "source": [
    "### Tipos de dados\n",
    "\n",
    "As variáveis em Java podem ser divididas em **simples** e **compostos**.\n",
    "\n",
    "**Simples**:"
   ]
  },
  {
   "cell_type": "code",
   "execution_count": 2,
   "metadata": {},
   "outputs": [
    {
     "name": "stdout",
     "output_type": "stream",
     "text": [
      "Isto é um número inteiro 3\n",
      "Isto é um número real 5.5\n"
     ]
    },
    {
     "data": {
      "text/plain": [
       "null"
      ]
     },
     "execution_count": 2,
     "metadata": {},
     "output_type": "execute_result"
    }
   ],
   "source": [
    "int a = 3;\n",
    "double b = 5.5;\n",
    "System.out.println(\"Isto é um número inteiro \" + a);\n",
    "System.out.println(\"Isto é um número real \" + b);"
   ]
  },
  {
   "cell_type": "code",
   "execution_count": null,
   "metadata": {},
   "outputs": [],
   "source": []
  }
 ],
 "metadata": {
  "kernelspec": {
   "display_name": "Java",
   "language": "java",
   "name": "java"
  },
  "language_info": {
   "codemirror_mode": "text/x-java",
   "file_extension": ".java",
   "mimetype": "",
   "name": "Java",
   "nbconverter_exporter": "",
   "version": "1.8.0_121"
  }
 },
 "nbformat": 4,
 "nbformat_minor": 4
}
