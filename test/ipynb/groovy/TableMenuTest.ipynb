{
 "cells": [
  {
   "cell_type": "code",
   "execution_count": null,
   "metadata": {},
   "outputs": [],
   "source": [
    "displayTbl = new TableDisplay( new CSV().read(\"../../resources/data/interest-rates-small.csv\"))"
   ]
  },
  {
   "cell_type": "code",
   "execution_count": null,
   "metadata": {},
   "outputs": [],
   "source": [
    "// cell 1 expected result\n",
    "Image(\"../../resources/img/groovy/tableMenu/cell1_case1.png\")"
   ]
  },
  {
   "cell_type": "code",
   "execution_count": null,
   "metadata": {},
   "outputs": [],
   "source": [
    "displayTbl2 = new TableDisplay( new CSV().read(\"../../resources/data/interest-rates-small.csv\"))"
   ]
  },
  {
   "cell_type": "code",
   "execution_count": null,
   "metadata": {},
   "outputs": [],
   "source": [
    "// cell 2 expected result\n",
    "Image(\"../../resources/img/groovy/tableMenu/cell2_case1.png\")"
   ]
  },
  {
   "cell_type": "code",
   "execution_count": null,
   "metadata": {},
   "outputs": [],
   "source": [
    "// cell 2 expected result\n",
    "Image(\"../../resources/img/groovy/tableMenu/cell2_case2.png\")"
   ]
  },
  {
   "cell_type": "code",
   "execution_count": null,
   "metadata": {},
   "outputs": [],
   "source": [
    "displayTbl3 = new TableDisplay( new CSV().read(\"../../resources/data/interest-rates-small.csv\"))"
   ]
  },
  {
   "cell_type": "code",
   "execution_count": null,
   "metadata": {},
   "outputs": [],
   "source": [
    "// cell 3 expected result\n",
    "Image(\"../../resources/img/groovy/tableMenu/cell3_case1.png\")"
   ]
  },
  {
   "cell_type": "code",
   "execution_count": null,
   "metadata": {},
   "outputs": [],
   "source": [
    "// cell 3 expected result\n",
    "Image(\"../../resources/img/groovy/tableMenu/cell3_case2.png\")"
   ]
  },
  {
   "cell_type": "code",
   "execution_count": null,
   "metadata": {},
   "outputs": [],
   "source": [
    "displayTbl4 = new TableDisplay( new CSV().read(\"../../resources/data/interest-rates-small.csv\"))"
   ]
  },
  {
   "cell_type": "code",
   "execution_count": null,
   "metadata": {},
   "outputs": [],
   "source": [
    "// cell 4 expected result after 'Hide Column'\n",
    "Image(\"../../resources/img/groovy/tableMenu/cell4_case1.png\")"
   ]
  },
  {
   "cell_type": "code",
   "execution_count": null,
   "metadata": {},
   "outputs": [],
   "source": [
    "// cell 4 expected result after 'Sort Ascending'\n",
    "Image(\"../../resources/img/groovy/tableMenu/cell4_case2.png\")"
   ]
  },
  {
   "cell_type": "code",
   "execution_count": null,
   "metadata": {},
   "outputs": [],
   "source": [
    "// cell 4 expected result after 'Sort Descending'\n",
    "Image(\"../../resources/img/groovy/tableMenu/cell4_case3.png\")"
   ]
  },
  {
   "cell_type": "code",
   "execution_count": null,
   "metadata": {},
   "outputs": [],
   "source": [
    "// cell 4 expected result after 'No Sort'\n",
    "Image(\"../../resources/img/groovy/tableMenu/cell4_case4.png\")"
   ]
  },
  {
   "cell_type": "code",
   "execution_count": null,
   "metadata": {},
   "outputs": [],
   "source": [
    "displayTbl5 = new TableDisplay( new CSV().read(\"../../resources/data/interest-rates-small.csv\"))"
   ]
  },
  {
   "cell_type": "code",
   "execution_count": null,
   "metadata": {},
   "outputs": [],
   "source": [
    "// cell 5 expected result after 'Format double with precision is 2'\n",
    "Image(\"../../resources/img/groovy/tableMenu/cell5_case1.png\")"
   ]
  },
  {
   "cell_type": "code",
   "execution_count": null,
   "metadata": {},
   "outputs": [],
   "source": [
    "// cell 5 expected result after column menu item'Search for Substring'\n",
    "Image(\"../../resources/img/groovy/tableMenu/cell5_case2.png\")"
   ]
  },
  {
   "cell_type": "code",
   "execution_count": null,
   "metadata": {},
   "outputs": [],
   "source": [
    "// cell 5 expected result after index menu item 'Search for Substring'\n",
    "Image(\"../../resources/img/groovy/tableMenu/cell5_case3.png\")"
   ]
  },
  {
   "cell_type": "code",
   "execution_count": null,
   "metadata": {},
   "outputs": [],
   "source": []
  }
 ],
 "metadata": {
  "kernelspec": {
   "display_name": "Groovy",
   "language": "groovy",
   "name": "groovy"
  },
  "language_info": {
   "codemirror_mode": "groovy",
   "file_extension": ".groovy",
   "mimetype": "",
   "name": "Groovy",
   "nbconverter_exporter": "",
   "version": "2.4.3"
  }
 },
 "nbformat": 4,
 "nbformat_minor": 2
}
